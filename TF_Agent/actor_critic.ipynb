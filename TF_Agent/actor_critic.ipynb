{
 "cells": [
  {
   "cell_type": "markdown",
   "metadata": {
    "id": "_jQ1tEQCxwRx"
   },
   "source": [
    "##### Copyright 2020 The TensorFlow Authors."
   ]
  },
  {
   "cell_type": "code",
   "execution_count": 1,
   "metadata": {
    "cellView": "form",
    "execution": {
     "iopub.execute_input": "2022-10-28T01:24:35.906624Z",
     "iopub.status.busy": "2022-10-28T01:24:35.906179Z",
     "iopub.status.idle": "2022-10-28T01:24:35.910035Z",
     "shell.execute_reply": "2022-10-28T01:24:35.909452Z"
    },
    "id": "V_sgB_5dx1f1"
   },
   "outputs": [],
   "source": [
    "#@title Licensed under the Apache License, Version 2.0 (the \"License\");\n",
    "# you may not use this file except in compliance with the License.\n",
    "# You may obtain a copy of the License at\n",
    "#\n",
    "# https://www.apache.org/licenses/LICENSE-2.0\n",
    "#\n",
    "# Unless required by applicable law or agreed to in writing, software\n",
    "# distributed under the License is distributed on an \"AS IS\" BASIS,\n",
    "# WITHOUT WARRANTIES OR CONDITIONS OF ANY KIND, either express or implied.\n",
    "# See the License for the specific language governing permissions and\n",
    "# limitations under the License."
   ]
  },
  {
   "cell_type": "markdown",
   "metadata": {
    "id": "p62G8M_viUJp"
   },
   "source": [
    "# Playing CartPole with the Actor-Critic method\n"
   ]
  },
  {
   "cell_type": "markdown",
   "metadata": {
    "id": "-mJ2i6jvZ3sK"
   },
   "source": [
    "<table class=\"tfo-notebook-buttons\" align=\"left\">\n",
    "  <td>\n",
    "    <a target=\"_blank\" href=\"https://www.tensorflow.org/tutorials/reinforcement_learning/actor_critic\">\n",
    "    <img src=\"https://www.tensorflow.org/images/tf_logo_32px.png\" />\n",
    "    View on TensorFlow.org</a>\n",
    "  </td>\n",
    "  <td>\n",
    "    <a target=\"_blank\" href=\"https://colab.research.google.com/github/tensorflow/docs/blob/master/site/en/tutorials/reinforcement_learning/actor_critic.ipynb\">\n",
    "    <img src=\"https://www.tensorflow.org/images/colab_logo_32px.png\" />\n",
    "    Run in Google Colab</a>\n",
    "  </td>\n",
    "  <td>\n",
    "    <a target=\"_blank\" href=\"https://github.com/tensorflow/docs/blob/master/site/en/tutorials/reinforcement_learning/actor_critic.ipynb\">\n",
    "    <img src=\"https://www.tensorflow.org/images/GitHub-Mark-32px.png\" />\n",
    "    View source on GitHub</a>\n",
    "  </td>\n",
    "  <td>\n",
    "    <a href=\"https://storage.googleapis.com/tensorflow_docs/docs/site/en/tutorials/reinforcement_learning/actor_critic.ipynb\"><img src=\"https://www.tensorflow.org/images/download_logo_32px.png\" />Download notebook</a>\n",
    "  </td>\n",
    "</table>"
   ]
  },
  {
   "cell_type": "markdown",
   "metadata": {
    "id": "kFgN7h_wiUJq"
   },
   "source": [
    "This tutorial demonstrates how to implement the [Actor-Critic](https://papers.nips.cc/paper/1786-actor-critic-algorithms.pdf) method using TensorFlow to train an agent on the [Open AI Gym](https://gym.openai.com/) [`CartPole-v0`](https://www.gymlibrary.dev/environments/classic_control/cart_pole/) environment.\n",
    "The reader is assumed to have some familiarity with [policy gradient methods](https://papers.nips.cc/paper/1713-policy-gradient-methods-for-reinforcement-learning-with-function-approximation.pdf) of [(deep) reinforcement learning](https://en.wikipedia.org/wiki/Deep_reinforcement_learning). \n"
   ]
  },
  {
   "cell_type": "markdown",
   "metadata": {
    "id": "_kA10ZKRR0hi"
   },
   "source": [
    "**Actor-Critic methods**\n",
    "\n",
    "Actor-Critic methods are [temporal difference (TD) learning](https://en.wikipedia.org/wiki/Temporal_difference_learning) methods that represent the policy function independent of the value function.\n",
    "\n",
    "A policy function (or policy) returns a probability distribution over actions that the agent can take based on the given state.\n",
    "A value function determines the expected return for an agent starting at a given state and acting according to a particular policy forever after.\n",
    "\n",
    "In the Actor-Critic method, the policy is referred to as the *actor* that proposes a set of possible actions given a state, and the estimated value function is referred to as the *critic*, which evaluates actions taken by the *actor* based on the given policy.\n",
    "\n",
    "In this tutorial, both the *Actor* and *Critic* will be represented using one neural network with two outputs.\n"
   ]
  },
  {
   "cell_type": "markdown",
   "metadata": {
    "id": "rBfiafKSRs2k"
   },
   "source": [
    "**`CartPole-v0`**\n",
    "\n",
    "In the [`CartPole-v0` environment](https://www.gymlibrary.dev/environments/classic_control/cart_pole/), a pole is attached to a cart moving along a frictionless track.\n",
    "The pole starts upright and the goal of the agent is to prevent it from falling over by applying a force of `-1` or `+1` to the cart.\n",
    "A reward of `+1` is given for every time step the pole remains upright.\n",
    "An episode ends when: 1) the pole is more than 15 degrees from vertical; or 2) the cart moves more than 2.4 units from the center.\n",
    "\n",
    "<center>\n",
    "  <figure>\n",
    "    <image src=\"https://tensorflow.org/tutorials/reinforcement_learning/images/cartpole-v0.gif\">\n",
    "    <figcaption>\n",
    "      Trained actor-critic model in Cartpole-v0 environment\n",
    "    </figcaption>\n",
    "  </figure>\n",
    "</center>\n"
   ]
  },
  {
   "cell_type": "markdown",
   "metadata": {
    "id": "XSNVK0AeRoJd"
   },
   "source": [
    "The problem is considered \"solved\" when the average total reward for the episode reaches 195 over 100 consecutive trials."
   ]
  },
  {
   "cell_type": "markdown",
   "metadata": {
    "id": "glLwIctHiUJq"
   },
   "source": [
    "## Setup\n",
    "\n",
    "Import necessary packages and configure global settings.\n"
   ]
  },
  {
   "cell_type": "code",
   "execution_count": 2,
   "metadata": {
    "execution": {
     "iopub.execute_input": "2022-10-28T01:24:35.915098Z",
     "iopub.status.busy": "2022-10-28T01:24:35.914692Z",
     "iopub.status.idle": "2022-10-28T01:24:44.730694Z",
     "shell.execute_reply": "2022-10-28T01:24:44.729869Z"
    },
    "id": "13l6BbxKhCKp"
   },
   "outputs": [
    {
     "name": "stdout",
     "output_type": "stream",
     "text": [
      "Collecting gym[classic_control]\n",
      "  Downloading gym-0.26.2.tar.gz (721 kB)\n",
      "  Installing build dependencies ... \u001b[?25ldone\n",
      "\u001b[?25h  Getting requirements to build wheel ... \u001b[?25ldone\n",
      "\u001b[?25h  Preparing metadata (pyproject.toml) ... \u001b[?25ldone\n",
      "\u001b[?25hRequirement already satisfied: importlib-metadata>=4.8.0 in /tmpfs/src/tf_docs_env/lib/python3.9/site-packages (from gym[classic_control]) (5.0.0)\n",
      "Requirement already satisfied: numpy>=1.18.0 in /tmpfs/src/tf_docs_env/lib/python3.9/site-packages (from gym[classic_control]) (1.23.4)\n",
      "Collecting gym-notices>=0.0.4\n",
      "  Downloading gym_notices-0.0.8-py3-none-any.whl (3.0 kB)\n",
      "Collecting cloudpickle>=1.2.0\n",
      "  Downloading cloudpickle-2.2.0-py3-none-any.whl (25 kB)\n",
      "Collecting pygame==2.1.0\n",
      "  Downloading pygame-2.1.0-cp39-cp39-manylinux_2_17_x86_64.manylinux2014_x86_64.whl (18.3 MB)\n",
      "Requirement already satisfied: zipp>=0.5 in /tmpfs/src/tf_docs_env/lib/python3.9/site-packages (from importlib-metadata>=4.8.0->gym[classic_control]) (3.10.0)\n",
      "Building wheels for collected packages: gym\n",
      "  Building wheel for gym (pyproject.toml) ... \u001b[?25ldone\n",
      "\u001b[?25h  Created wheel for gym: filename=gym-0.26.2-py3-none-any.whl size=827634 sha256=7e304b12a21b177300f66aa9331552c9a20942115a1120a1c936ab0bc6c7bc94\n",
      "  Stored in directory: /home/kbuilder/.cache/pip/wheels/fc/bf/16/63ad354aa94e522b5fddf1729d8dfc47ad5980079054d4f714\n",
      "Successfully built gym\n",
      "Installing collected packages: gym-notices, pygame, cloudpickle, gym\n",
      "Successfully installed cloudpickle-2.2.0 gym-0.26.2 gym-notices-0.0.8 pygame-2.1.0\n",
      "Collecting pyglet\n",
      "  Downloading pyglet-1.5.27-py3-none-any.whl (1.1 MB)\n",
      "Installing collected packages: pyglet\n",
      "Successfully installed pyglet-1.5.27\n"
     ]
    }
   ],
   "source": [
    "!pip install gym[classic_control]\n",
    "!pip install pyglet"
   ]
  },
  {
   "cell_type": "code",
   "execution_count": 3,
   "metadata": {
    "execution": {
     "iopub.execute_input": "2022-10-28T01:24:44.735393Z",
     "iopub.status.busy": "2022-10-28T01:24:44.734769Z",
     "iopub.status.idle": "2022-10-28T01:24:57.423807Z",
     "shell.execute_reply": "2022-10-28T01:24:57.422763Z"
    },
    "id": "WBeQhPi2S4m5"
   },
   "outputs": [],
   "source": [
    "%%bash\n",
    "# Install additional packages for visualization\n",
    "sudo apt-get install -y python-opengl > /dev/null 2>&1\n",
    "pip install git+https://github.com/tensorflow/docs > /dev/null 2>&1"
   ]
  },
  {
   "cell_type": "code",
   "execution_count": 4,
   "metadata": {
    "execution": {
     "iopub.execute_input": "2022-10-28T01:24:57.428421Z",
     "iopub.status.busy": "2022-10-28T01:24:57.427885Z",
     "iopub.status.idle": "2022-10-28T01:24:59.907580Z",
     "shell.execute_reply": "2022-10-28T01:24:59.906615Z"
    },
    "id": "tT4N3qYviUJr"
   },
   "outputs": [
    {
     "name": "stderr",
     "output_type": "stream",
     "text": [
      "2022-10-28 01:24:58.393854: W tensorflow/compiler/xla/stream_executor/platform/default/dso_loader.cc:64] Could not load dynamic library 'libnvinfer.so.7'; dlerror: libnvinfer.so.7: cannot open shared object file: No such file or directory\n",
      "2022-10-28 01:24:58.393975: W tensorflow/compiler/xla/stream_executor/platform/default/dso_loader.cc:64] Could not load dynamic library 'libnvinfer_plugin.so.7'; dlerror: libnvinfer_plugin.so.7: cannot open shared object file: No such file or directory\n",
      "2022-10-28 01:24:58.393987: W tensorflow/compiler/tf2tensorrt/utils/py_utils.cc:38] TF-TRT Warning: Cannot dlopen some TensorRT libraries. If you would like to use Nvidia GPU with TensorRT, please make sure the missing libraries mentioned above are installed properly.\n"
     ]
    }
   ],
   "source": [
    "import collections\n",
    "import gym\n",
    "import numpy as np\n",
    "import statistics\n",
    "import tensorflow as tf\n",
    "import tqdm\n",
    "\n",
    "from matplotlib import pyplot as plt\n",
    "from tensorflow.keras import layers\n",
    "from typing import Any, List, Sequence, Tuple\n",
    "\n",
    "\n",
    "# Create the environment\n",
    "env = gym.make(\"CartPole-v1\")\n",
    "\n",
    "# Set seed for experiment reproducibility\n",
    "seed = 42\n",
    "tf.random.set_seed(seed)\n",
    "np.random.seed(seed)\n",
    "\n",
    "# Small epsilon value for stabilizing division operations\n",
    "eps = np.finfo(np.float32).eps.item()"
   ]
  },
  {
   "cell_type": "markdown",
   "metadata": {
    "id": "AOUCe2D0iUJu"
   },
   "source": [
    "## The model\n",
    "\n",
    "The *Actor* and *Critic* will be modeled using one neural network that generates the action probabilities and Critic value respectively. This tutorial uses model subclassing to define the model. \n",
    "\n",
    "During the forward pass, the model will take in the state as the input and will output both action probabilities and critic value $V$, which models the state-dependent [value function](https://spinningup.openai.com/en/latest/spinningup/rl_intro.html#value-functions). The goal is to train a model that chooses actions based on a policy $\\pi$ that maximizes expected [return](https://spinningup.openai.com/en/latest/spinningup/rl_intro.html#reward-and-return).\n",
    "\n",
    "For `CartPole-v0`, there are four values representing the state: cart position, cart-velocity, pole angle and pole velocity respectively. The agent can take two actions to push the cart left (`0`) and right (`1`), respectively.\n",
    "\n",
    "Refer to [Gym's Cart Pole documentation page](https://www.gymlibrary.dev/environments/classic_control/cart_pole/) and [_Neuronlike adaptive elements that can solve difficult learning control problems_](http://www.derongliu.org/adp/adp-cdrom/Barto1983.pdf) by Barto, Sutton and Anderson (1983) for more information.\n"
   ]
  },
  {
   "cell_type": "code",
   "execution_count": 5,
   "metadata": {
    "execution": {
     "iopub.execute_input": "2022-10-28T01:24:59.912668Z",
     "iopub.status.busy": "2022-10-28T01:24:59.911829Z",
     "iopub.status.idle": "2022-10-28T01:24:59.917659Z",
     "shell.execute_reply": "2022-10-28T01:24:59.916915Z"
    },
    "id": "aXKbbMC-kmuv"
   },
   "outputs": [],
   "source": [
    "class ActorCritic(tf.keras.Model):\n",
    "    \"\"\"Combined actor-critic network.\"\"\"\n",
    "\n",
    "    def __init__(\n",
    "      self, \n",
    "      num_actions: int, \n",
    "      num_hidden_units: int):\n",
    "        \"\"\"Initialize.\"\"\"\n",
    "        super().__init__()\n",
    "\n",
    "        self.common = layers.Dense(num_hidden_units, activation=\"relu\")\n",
    "        self.actor = layers.Dense(num_actions)\n",
    "        self.critic = layers.Dense(1)\n",
    "\n",
    "    def call(self, inputs: tf.Tensor) -> Tuple[tf.Tensor, tf.Tensor]:\n",
    "    x = self.common(inputs)\n",
    "    return self.actor(x), self.critic(x)"
   ]
  },
  {
   "cell_type": "code",
   "execution_count": 6,
   "metadata": {
    "execution": {
     "iopub.execute_input": "2022-10-28T01:24:59.920824Z",
     "iopub.status.busy": "2022-10-28T01:24:59.920581Z",
     "iopub.status.idle": "2022-10-28T01:25:03.213503Z",
     "shell.execute_reply": "2022-10-28T01:25:03.212825Z"
    },
    "id": "nWyxJgjLn68c"
   },
   "outputs": [],
   "source": [
    "num_actions = env.action_space.n  # 2\n",
    "num_hidden_units = 128\n",
    "\n",
    "model = ActorCritic(num_actions, num_hidden_units)"
   ]
  },
  {
   "cell_type": "markdown",
   "metadata": {
    "id": "hk92njFziUJw"
   },
   "source": [
    "## Train the agent\n",
    "\n",
    "To train the agent, you will follow these steps:\n",
    "\n",
    "1. Run the agent on the environment to collect training data per episode.\n",
    "2. Compute expected return at each time step.\n",
    "3. Compute the loss for the combined Actor-Critic model.\n",
    "4. Compute gradients and update network parameters.\n",
    "5. Repeat 1-4 until either success criterion or max episodes has been reached.\n"
   ]
  },
  {
   "cell_type": "markdown",
   "metadata": {
    "id": "R2nde2XDs8Gh"
   },
   "source": [
    "### 1. Collect training data\n",
    "\n",
    "As in supervised learning, in order to train the actor-critic model, you need\n",
    "to have training data. However, in order to collect such data, the model would\n",
    "need to be \"run\" in the environment.\n",
    "\n",
    "Training data is collected for each episode. Then at each time step, the model's forward pass will be run on the environment's state in order to generate action probabilities and the critic value based on the current policy parameterized by the model's weights.\n",
    "\n",
    "The next action will be sampled from the action probabilities generated by the model, which would then be applied to the environment, causing the next state and reward to be generated.\n",
    "\n",
    "This process is implemented in the `run_episode` function, which uses TensorFlow operations so that it can later be compiled into a TensorFlow graph for faster training. Note that `tf.TensorArray`s were used to support Tensor iteration on variable length arrays."
   ]
  },
  {
   "cell_type": "code",
   "execution_count": 7,
   "metadata": {
    "execution": {
     "iopub.execute_input": "2022-10-28T01:25:03.217460Z",
     "iopub.status.busy": "2022-10-28T01:25:03.217197Z",
     "iopub.status.idle": "2022-10-28T01:25:03.222220Z",
     "shell.execute_reply": "2022-10-28T01:25:03.221661Z"
    },
    "id": "5URrbGlDSAGx"
   },
   "outputs": [],
   "source": [
    "# Wrap Gym's `env.step` call as an operation in a TensorFlow function.\n",
    "# This would allow it to be included in a callable TensorFlow graph.\n",
    "\n",
    "def env_step(action: np.ndarray) -> Tuple[np.ndarray, np.ndarray, np.ndarray]:\n",
    "  \"\"\"Returns state, reward and done flag given an action.\"\"\"\n",
    "\n",
    "  state, reward, done, truncated, info = env.step(action)\n",
    "  return (state.astype(np.float32), \n",
    "          np.array(reward, np.int32), \n",
    "          np.array(done, np.int32))\n",
    "\n",
    "\n",
    "def tf_env_step(action: tf.Tensor) -> List[tf.Tensor]:\n",
    "  return tf.numpy_function(env_step, [action], \n",
    "                           [tf.float32, tf.int32, tf.int32])"
   ]
  },
  {
   "cell_type": "code",
   "execution_count": 8,
   "metadata": {
    "execution": {
     "iopub.execute_input": "2022-10-28T01:25:03.225571Z",
     "iopub.status.busy": "2022-10-28T01:25:03.224950Z",
     "iopub.status.idle": "2022-10-28T01:25:03.231358Z",
     "shell.execute_reply": "2022-10-28T01:25:03.230813Z"
    },
    "id": "a4qVRV063Cl9"
   },
   "outputs": [],
   "source": [
    "def run_episode(\n",
    "    initial_state: tf.Tensor,  \n",
    "    model: tf.keras.Model, \n",
    "    max_steps: int) -> Tuple[tf.Tensor, tf.Tensor, tf.Tensor]:\n",
    "  \"\"\"Runs a single episode to collect training data.\"\"\"\n",
    "\n",
    "  action_probs = tf.TensorArray(dtype=tf.float32, size=0, dynamic_size=True)\n",
    "  values = tf.TensorArray(dtype=tf.float32, size=0, dynamic_size=True)\n",
    "  rewards = tf.TensorArray(dtype=tf.int32, size=0, dynamic_size=True)\n",
    "\n",
    "  initial_state_shape = initial_state.shape\n",
    "  state = initial_state\n",
    "\n",
    "  for t in tf.range(max_steps):\n",
    "    # Convert state into a batched tensor (batch size = 1)\n",
    "    state = tf.expand_dims(state, 0)\n",
    "  \n",
    "    # Run the model and to get action probabilities and critic value\n",
    "    action_logits_t, value = model(state)\n",
    "  \n",
    "    # Sample next action from the action probability distribution\n",
    "    action = tf.random.categorical(action_logits_t, 1)[0, 0]\n",
    "    action_probs_t = tf.nn.softmax(action_logits_t)\n",
    "\n",
    "    # Store critic values\n",
    "    values = values.write(t, tf.squeeze(value))\n",
    "\n",
    "    # Store log probability of the action chosen\n",
    "    action_probs = action_probs.write(t, action_probs_t[0, action])\n",
    "  \n",
    "    # Apply action to the environment to get next state and reward\n",
    "    state, reward, done = tf_env_step(action)\n",
    "    state.set_shape(initial_state_shape)\n",
    "  \n",
    "    # Store reward\n",
    "    rewards = rewards.write(t, reward)\n",
    "\n",
    "    if tf.cast(done, tf.bool):\n",
    "      break\n",
    "\n",
    "  action_probs = action_probs.stack()\n",
    "  values = values.stack()\n",
    "  rewards = rewards.stack()\n",
    "  \n",
    "  return action_probs, values, rewards"
   ]
  },
  {
   "cell_type": "markdown",
   "metadata": {
    "id": "lBnIHdz22dIx"
   },
   "source": [
    "### 2. Compute the expected returns\n",
    "\n",
    "The sequence of rewards for each timestep $t$, $\\{r_{t}\\}^{T}_{t=1}$ collected during one episode is converted into a sequence of expected returns $\\{G_{t}\\}^{T}_{t=1}$ in which the sum of rewards is taken from the current timestep $t$ to $T$ and each reward is multiplied with an exponentially decaying discount factor $\\gamma$:\n",
    "\n",
    "$$G_{t} = \\sum^{T}_{t'=t} \\gamma^{t'-t}r_{t'}$$\n",
    "\n",
    "Since $\\gamma\\in(0,1)$, rewards further out from the current timestep are given less weight.\n",
    "\n",
    "Intuitively, expected return simply implies that rewards now are better than rewards later. In a mathematical sense, it is to ensure that the sum of the rewards converges.\n",
    "\n",
    "To stabilize training, the resulting sequence of returns is also standardized (i.e. to have zero mean and unit standard deviation).\n"
   ]
  },
  {
   "cell_type": "code",
   "execution_count": 9,
   "metadata": {
    "execution": {
     "iopub.execute_input": "2022-10-28T01:25:03.234859Z",
     "iopub.status.busy": "2022-10-28T01:25:03.234243Z",
     "iopub.status.idle": "2022-10-28T01:25:03.239403Z",
     "shell.execute_reply": "2022-10-28T01:25:03.238864Z"
    },
    "id": "jpEwFyl315dl"
   },
   "outputs": [],
   "source": [
    "def get_expected_return(\n",
    "    rewards: tf.Tensor, \n",
    "    gamma: float, \n",
    "    standardize: bool = True) -> tf.Tensor:\n",
    "  \"\"\"Compute expected returns per timestep.\"\"\"\n",
    "\n",
    "  n = tf.shape(rewards)[0]\n",
    "  returns = tf.TensorArray(dtype=tf.float32, size=n)\n",
    "\n",
    "  # Start from the end of `rewards` and accumulate reward sums\n",
    "  # into the `returns` array\n",
    "  rewards = tf.cast(rewards[::-1], dtype=tf.float32)\n",
    "  discounted_sum = tf.constant(0.0)\n",
    "  discounted_sum_shape = discounted_sum.shape\n",
    "  for i in tf.range(n):\n",
    "    reward = rewards[i]\n",
    "    discounted_sum = reward + gamma * discounted_sum\n",
    "    discounted_sum.set_shape(discounted_sum_shape)\n",
    "    returns = returns.write(i, discounted_sum)\n",
    "  returns = returns.stack()[::-1]\n",
    "\n",
    "  if standardize:\n",
    "    returns = ((returns - tf.math.reduce_mean(returns)) / \n",
    "               (tf.math.reduce_std(returns) + eps))\n",
    "\n",
    "  return returns"
   ]
  },
  {
   "cell_type": "markdown",
   "metadata": {
    "id": "qhr50_Czxazw"
   },
   "source": [
    "### 3. The Actor-Critic loss\n",
    "\n",
    "Since you're using a hybrid Actor-Critic model, the chosen loss function is a combination of Actor and Critic losses for training, as shown below:\n",
    "\n",
    "$$L = L_{actor} + L_{critic}$$"
   ]
  },
  {
   "cell_type": "markdown",
   "metadata": {
    "id": "nOQIJuG1xdTH"
   },
   "source": [
    "#### The Actor loss\n",
    "\n",
    "The Actor loss is based on [policy gradients with the Critic as a state dependent baseline](https://www.youtube.com/watch?v=EKqxumCuAAY&t=62m23s) and computed with single-sample (per-episode) estimates.\n",
    "\n",
    "$$L_{actor} = -\\sum^{T}_{t=1} \\log\\pi_{\\theta}(a_{t} | s_{t})[G(s_{t}, a_{t})  - V^{\\pi}_{\\theta}(s_{t})]$$\n",
    "\n",
    "where:\n",
    "- $T$: the number of timesteps per episode, which can vary per episode\n",
    "- $s_{t}$: the state at timestep $t$\n",
    "- $a_{t}$: chosen action at timestep $t$ given state $s$\n",
    "- $\\pi_{\\theta}$: is the policy (Actor) parameterized by $\\theta$\n",
    "- $V^{\\pi}_{\\theta}$: is the value function (Critic) also parameterized by $\\theta$\n",
    "- $G = G_{t}$: the expected return for a given state, action pair at timestep $t$\n",
    "\n",
    "A negative term is added to the sum since the idea is to maximize the probabilities of actions yielding higher rewards by minimizing the combined loss.\n",
    "\n",
    "<br>"
   ]
  },
  {
   "cell_type": "markdown",
   "metadata": {
    "id": "Y304O4OAxiAv"
   },
   "source": [
    "##### The Advantage\n",
    "\n",
    "The $G - V$ term in our $L_{actor}$ formulation is called the [Advantage](https://spinningup.openai.com/en/latest/spinningup/rl_intro.html#advantage-functions), which indicates how much better an action is given a particular state over a random action selected according to the policy $\\pi$ for that state.\n",
    "\n",
    "While it's possible to exclude a baseline, this may result in high variance during training. And the nice thing about choosing the critic $V$ as a baseline is that it trained to be as close as possible to $G$, leading to a lower variance.\n",
    "\n",
    "In addition, without the Critic, the algorithm would try to increase probabilities for actions taken on a particular state based on expected return, which may not make much of a difference if the relative probabilities between actions remain the same.\n",
    "\n",
    "For instance, suppose that two actions for a given state would yield the same expected return. Without the Critic, the algorithm would try to raise the probability of these actions based on the objective $J$. With the Critic, it may turn out that there's no Advantage ($G - V = 0$), and thus no benefit gained in increasing the actions' probabilities and the algorithm would set the gradients to zero.\n",
    "\n",
    "<br>"
   ]
  },
  {
   "cell_type": "markdown",
   "metadata": {
    "id": "1hrPLrgGxlvb"
   },
   "source": [
    "#### The Critic loss\n",
    "\n",
    "Training $V$ to be as close possible to $G$ can be set up as a regression problem with the following loss function:\n",
    "\n",
    "$$L_{critic} = L_{\\delta}(G, V^{\\pi}_{\\theta})$$\n",
    "\n",
    "where $L_{\\delta}$ is the [Huber loss](https://en.wikipedia.org/wiki/Huber_loss), which is less sensitive to outliers in data than squared-error loss.\n"
   ]
  },
  {
   "cell_type": "code",
   "execution_count": 10,
   "metadata": {
    "execution": {
     "iopub.execute_input": "2022-10-28T01:25:03.243554Z",
     "iopub.status.busy": "2022-10-28T01:25:03.243075Z",
     "iopub.status.idle": "2022-10-28T01:25:03.247201Z",
     "shell.execute_reply": "2022-10-28T01:25:03.246671Z"
    },
    "id": "9EXwbEez6n9m"
   },
   "outputs": [],
   "source": [
    "huber_loss = tf.keras.losses.Huber(reduction=tf.keras.losses.Reduction.SUM)\n",
    "\n",
    "def compute_loss(\n",
    "    action_probs: tf.Tensor,  \n",
    "    values: tf.Tensor,  \n",
    "    returns: tf.Tensor) -> tf.Tensor:\n",
    "  \"\"\"Computes the combined Actor-Critic loss.\"\"\"\n",
    "\n",
    "  advantage = returns - values\n",
    "\n",
    "  action_log_probs = tf.math.log(action_probs)\n",
    "  actor_loss = -tf.math.reduce_sum(action_log_probs * advantage)\n",
    "\n",
    "  critic_loss = huber_loss(values, returns)\n",
    "\n",
    "  return actor_loss + critic_loss"
   ]
  },
  {
   "cell_type": "markdown",
   "metadata": {
    "id": "HSYkQOmRfV75"
   },
   "source": [
    "### 4. Define the training step to update parameters\n",
    "\n",
    "All of the steps above are combined into a training step that is run every episode. All steps leading up to the loss function are executed with the `tf.GradientTape` context to enable automatic differentiation.\n",
    "\n",
    "This tutorial uses the Adam optimizer to apply the gradients to the model parameters.\n",
    "\n",
    "The sum of the undiscounted rewards, `episode_reward`, is also computed in this step. This value will be used later on to evaluate if the success criterion is met.\n",
    "\n",
    "The `tf.function` context is applied to the `train_step` function so that it can be compiled into a callable TensorFlow graph, which can lead to 10x speedup in training.\n"
   ]
  },
  {
   "cell_type": "code",
   "execution_count": 11,
   "metadata": {
    "execution": {
     "iopub.execute_input": "2022-10-28T01:25:03.250879Z",
     "iopub.status.busy": "2022-10-28T01:25:03.250351Z",
     "iopub.status.idle": "2022-10-28T01:25:03.259617Z",
     "shell.execute_reply": "2022-10-28T01:25:03.259082Z"
    },
    "id": "QoccrkF3IFCg"
   },
   "outputs": [],
   "source": []
  },
  {
   "cell_type": "markdown",
   "metadata": {
    "id": "HFvZiDoAflGK"
   },
   "source": [
    "### 5. Run the training loop\n",
    "\n",
    "Training is executed by running the training step until either the success criterion or maximum number of episodes is reached.  \n",
    "\n",
    "A running record of episode rewards is kept in a queue. Once 100 trials are reached, the oldest reward is removed at the left (tail) end of the queue and the newest one is added at the head (right). A running sum of the rewards is also maintained for computational efficiency.\n",
    "\n",
    "Depending on your runtime, training can finish in less than a minute."
   ]
  },
  {
   "cell_type": "code",
   "execution_count": 12,
   "metadata": {
    "execution": {
     "iopub.execute_input": "2022-10-28T01:25:03.263945Z",
     "iopub.status.busy": "2022-10-28T01:25:03.263293Z",
     "iopub.status.idle": "2022-10-28T01:27:53.376288Z",
     "shell.execute_reply": "2022-10-28T01:27:53.375541Z"
    },
    "id": "kbmBxnzLiUJx"
   },
   "outputs": [
    {
     "name": "stderr",
     "output_type": "stream",
     "text": [
      "  5%|▍         | 493/10000 [02:50<54:40,  2.90it/s, episode_reward=500, running_reward=476]   "
     ]
    },
    {
     "name": "stdout",
     "output_type": "stream",
     "text": [
      "\n",
      "Solved at episode 493: average reward: 475.68!\n",
      "CPU times: user 6min 44s, sys: 1min 32s, total: 8min 16s\n",
      "Wall time: 2min 50s\n"
     ]
    },
    {
     "name": "stderr",
     "output_type": "stream",
     "text": [
      "\n"
     ]
    }
   ],
   "source": [
    "%%time\n",
    "\n",
    "min_episodes_criterion = 100\n",
    "max_episodes = 10000\n",
    "max_steps_per_episode = 500\n",
    "\n",
    "# `CartPole-v1` is considered solved if average reward is >= 475 over 500 \n",
    "# consecutive trials\n",
    "reward_threshold = 475\n",
    "running_reward = 0\n",
    "\n",
    "# The discount factor for future rewards\n",
    "gamma = 0.99\n",
    "\n",
    "# Keep the last episodes reward\n",
    "episodes_reward: collections.deque = collections.deque(maxlen=min_episodes_criterion)\n",
    "\n",
    "t = tqdm.trange(max_episodes)\n",
    "for i in t:\n",
    "    initial_state, info = env.reset()\n",
    "    initial_state = tf.constant(initial_state, dtype=tf.float32)\n",
    "    episode_reward = int(train_step(\n",
    "        initial_state, model, optimizer, gamma, max_steps_per_episode))\n",
    "    \n",
    "    episodes_reward.append(episode_reward)\n",
    "    running_reward = statistics.mean(episodes_reward)\n",
    "  \n",
    "\n",
    "    t.set_postfix(\n",
    "        episode_reward=episode_reward, running_reward=running_reward)\n",
    "  \n",
    "    # Show the average episode reward every 10 episodes\n",
    "    if i % 10 == 0:\n",
    "      pass # print(f'Episode {i}: average reward: {avg_reward}')\n",
    "  \n",
    "    if running_reward > reward_threshold and i >= min_episodes_criterion:  \n",
    "        break\n",
    "\n",
    "print(f'\\nSolved at episode {i}: average reward: {running_reward:.2f}!')"
   ]
  },
  {
   "cell_type": "markdown",
   "metadata": {
    "id": "ru8BEwS1EmAv"
   },
   "source": [
    "## Visualization\n",
    "\n",
    "After training, it would be good to visualize how the model performs in the environment. You can run the cells below to generate a GIF animation of one episode run of the model. Note that additional packages need to be installed for Gym to render the environment's images correctly in Colab."
   ]
  },
  {
   "cell_type": "code",
   "execution_count": 13,
   "metadata": {
    "execution": {
     "iopub.execute_input": "2022-10-28T01:27:53.380618Z",
     "iopub.status.busy": "2022-10-28T01:27:53.380343Z",
     "iopub.status.idle": "2022-10-28T01:27:55.731043Z",
     "shell.execute_reply": "2022-10-28T01:27:55.730326Z"
    },
    "id": "qbIMMkfmRHyC"
   },
   "outputs": [],
   "source": [
    "# Render an episode and save as a GIF file\n",
    "\n",
    "from IPython import display as ipythondisplay\n",
    "from PIL import Image\n",
    "\n",
    "render_env = gym.make(\"CartPole-v1\", render_mode='rgb_array')\n",
    "\n",
    "def render_episode(env: gym.Env, model: tf.keras.Model, max_steps: int): \n",
    "  state, info = render_env.reset()\n",
    "  state = tf.constant(state, dtype=tf.float32)\n",
    "  screen = render_env.render()\n",
    "  images = [Image.fromarray(screen)]\n",
    " \n",
    "  for i in range(1, max_steps + 1):\n",
    "    state = tf.expand_dims(state, 0)\n",
    "    action_probs, _ = model(state)\n",
    "    action = np.argmax(np.squeeze(action_probs))\n",
    "\n",
    "    state, reward, done, truncated, info = render_env.step(action)\n",
    "    state = tf.constant(state, dtype=tf.float32)\n",
    "\n",
    "    # Render screen every 10 steps\n",
    "    if i % 10 == 0:\n",
    "      screen = render_env.render()\n",
    "      images.append(Image.fromarray(screen))\n",
    "  \n",
    "    if done:\n",
    "      break\n",
    "  \n",
    "  return images\n",
    "\n",
    "\n",
    "# Save GIF image\n",
    "images = render_episode(env, model, max_steps_per_episode)\n",
    "image_file = 'cartpole-v1.gif'\n",
    "# loop=0: loop forever, duration=1: play each frame for 1ms\n",
    "images[0].save(\n",
    "    image_file, save_all=True, append_images=images[1:], loop=0, duration=1)"
   ]
  },
  {
   "cell_type": "code",
   "execution_count": 14,
   "metadata": {
    "execution": {
     "iopub.execute_input": "2022-10-28T01:27:55.734945Z",
     "iopub.status.busy": "2022-10-28T01:27:55.734695Z",
     "iopub.status.idle": "2022-10-28T01:27:55.918622Z",
     "shell.execute_reply": "2022-10-28T01:27:55.918013Z"
    },
    "id": "TLd720SejKmf"
   },
   "outputs": [
    {
     "data": {
      "text/html": [
       "<img src=\"data:image/gif;base64,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\"/>"
      ],
      "text/plain": [
       "<IPython.core.display.HTML object>"
      ]
     },
     "execution_count": 14,
     "metadata": {},
     "output_type": "execute_result"
    }
   ],
   "source": [
    "import tensorflow_docs.vis.embed as embed\n",
    "embed.embed_file(image_file)"
   ]
  },
  {
   "cell_type": "markdown",
   "metadata": {
    "id": "lnq9Hzo1Po6X"
   },
   "source": [
    "## Next steps\n",
    "\n",
    "This tutorial demonstrated how to implement the Actor-Critic method using Tensorflow.\n",
    "\n",
    "As a next step, you could try training a model on a different environment in Gym. \n",
    "\n",
    "For additional information regarding Actor-Critic methods and the Cartpole-v0 problem, you may refer to the following resources:\n",
    "\n",
    "- [The Actor-Critic method](https://hal.inria.fr/hal-00840470/document)\n",
    "- [The Actor-Critic lecture (CAL)](https://www.youtube.com/watch?v=EKqxumCuAAY&list=PLkFD6_40KJIwhWJpGazJ9VSj9CFMkb79A&index=7&t=0s)\n",
    "- [Cart Pole learning control problem \\[Barto, et al. 1983\\]](http://www.derongliu.org/adp/adp-cdrom/Barto1983.pdf) \n",
    "\n",
    "For more reinforcement learning examples in TensorFlow, you can check the following resources:\n",
    "- [Reinforcement learning code examples (keras.io)](https://keras.io/examples/rl/)\n",
    "- [TF-Agents reinforcement learning library](https://www.tensorflow.org/agents)\n"
   ]
  }
 ],
 "metadata": {
  "colab": {
   "collapsed_sections": [
    "_jQ1tEQCxwRx"
   ],
   "name": "actor_critic.ipynb",
   "toc_visible": true
  },
  "kernelspec": {
   "display_name": "Python 3 (ipykernel)",
   "language": "python",
   "name": "python3"
  },
  "language_info": {
   "codemirror_mode": {
    "name": "ipython",
    "version": 3
   },
   "file_extension": ".py",
   "mimetype": "text/x-python",
   "name": "python",
   "nbconvert_exporter": "python",
   "pygments_lexer": "ipython3",
   "version": "3.10.8"
  }
 },
 "nbformat": 4,
 "nbformat_minor": 4
}
